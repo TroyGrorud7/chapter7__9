{
 "cells": [
  {
   "cell_type": "code",
   "execution_count": 1,
   "metadata": {},
   "outputs": [
    {
     "name": "stdout",
     "output_type": "stream",
     "text": [
      "[5]\n"
     ]
    }
   ],
   "source": [
    "odd_num=[]\n",
    "def get_odds(third_odd=[]):\n",
    "  for nums in range(1,11):\n",
    "    if nums % 2 == 1:\n",
    "      odd_num.append(nums)\n",
    "      \n",
    "    else:\n",
    "      continue\n",
    "      \n",
    "  third_odd.append(odd_num[2])\n",
    "  return third_odd \n",
    "\n",
    "\n",
    "\n",
    "print(get_odds())\n"
   ]
  },
  {
   "cell_type": "code",
   "execution_count": null,
   "metadata": {},
   "outputs": [],
   "source": []
  }
 ],
 "metadata": {
  "kernelspec": {
   "display_name": "Python 3",
   "language": "python",
   "name": "python3"
  },
  "language_info": {
   "codemirror_mode": {
    "name": "ipython",
    "version": 3
   },
   "file_extension": ".py",
   "mimetype": "text/x-python",
   "name": "python",
   "nbconvert_exporter": "python",
   "pygments_lexer": "ipython3",
   "version": "3.11.6"
  }
 },
 "nbformat": 4,
 "nbformat_minor": 2
}
